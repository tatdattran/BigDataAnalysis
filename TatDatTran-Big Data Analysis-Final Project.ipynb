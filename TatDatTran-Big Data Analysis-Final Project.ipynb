{
 "cells": [
  {
   "cell_type": "markdown",
   "metadata": {},
   "source": [
    "<font size=\"7\" color=\"#0000ff\"><center>Big Data Analysis - Final project </center></font>"
   ]
  },
  {
   "cell_type": "markdown",
   "metadata": {},
   "source": [
    "<font size=\"5\" color=\"#0000ff\"><center>Tat Dat Tran (Leipzig, 19.11.2021)</center></font>"
   ]
  },
  {
   "cell_type": "markdown",
   "metadata": {},
   "source": [
    "<img src=\"fig.jpg\" width=100%>"
   ]
  },
  {
   "cell_type": "markdown",
   "metadata": {},
   "source": [
    "# THEORY (30%)"
   ]
  },
  {
   "cell_type": "markdown",
   "metadata": {},
   "source": [
    "## 4 V´s\n",
    "\n",
    "<font size=\"4\" color=\"#0000ff\"><b>Task:</b> </font>\n",
    "**Explain the 4 V's in your own words using an example.**\n",
    "\n"
   ]
  },
  {
   "cell_type": "markdown",
   "metadata": {},
   "source": [
    "The <font color=\"#0000ff\">4 V’s</font> are four fundamental features of the big data which stand for <font color=\"#0000ff\">volume</font>, <font color=\"#0000ff\">variety</font>, <font color=\"#0000ff\">velocity</font>, and <font color=\"#0000ff\">veracity</font>. \n",
    "\n",
    "An example for a big data is the database collected by the social network Facebook. As we can see, Facebook keeps track of a lot of personal information of users. The majority of this information is used for marketing purposes. Facebook collects information on what you buy, what your friends buy, and so on, then, shows you ads that the company thinks you may like.\n",
    "\n",
    "<font size=\"4\" color=\"#0000ff\"><b>Volume:</b> </font>\n",
    "It is about the amount of data. Facebook generates 4 petabytes of data per day and has roughly 2.91 billion monthly active users, which ensure its database size is very huge.   \n",
    "\n",
    "<font size=\"4\" color=\"#0000ff\"><b>Variety:</b> </font>\n",
    "Facebook's database is unstructured. It contains texts, pictures, videos, ans so on. \n",
    "\n",
    "<font size=\"4\" color=\"#0000ff\"><b>Velocity:</b> </font>\n",
    "It is about the speed new data is generated and moves around. Think about how many Facebook status updates are being sent every minute of every day to have a good appreciation of its velocity. \n",
    "\n",
    "<font size=\"4\" color=\"#0000ff\"><b>Veracity:</b> </font>\n",
    "The veracity of a big data means the trustworthiness of the data. Is the data accurate and high-quality? When talking about big data that comes from a variety of sources, it’s important to understand the chain of custody, metadata and the context when the data was collected to be able to glean accurate insights. The higher the veracity of the data equates to the data’s importance to analyze and contribute to meaningful results for an organization. Can the Facebook manager rely on the fact that the data is representative? Every good manager knows that there are inherent discrepancies in all the data collected.\n",
    "\n"
   ]
  },
  {
   "cell_type": "markdown",
   "metadata": {},
   "source": [
    "## Missing values"
   ]
  },
  {
   "cell_type": "markdown",
   "metadata": {},
   "source": [
    "a. Use a self-chosen example to explain what missing values are."
   ]
  },
  {
   "cell_type": "markdown",
   "metadata": {},
   "source": [
    "Missing data are values that are not recorded in a dataset. They can be a single value missing in a single cell or missing of an entire observation. They could be \n",
    "- empty cells '', \n",
    "- np.nan in pandas, \n",
    "- symbol '?', \n",
    "- 'missing value', 'unavailable', or similar \n",
    "- unexpected numbers (999999).\n",
    "\n",
    "For example, in the dataset of the practice part below, 4 columns (features) have missing data."
   ]
  },
  {
   "cell_type": "markdown",
   "metadata": {},
   "source": [
    "b. Why does data analysis have to deal with this?"
   ]
  },
  {
   "cell_type": "markdown",
   "metadata": {},
   "source": [
    "Missing data is a huge problem for data analysis because it distorts findings and we can not visualize properly the data with missing data. "
   ]
  },
  {
   "cell_type": "markdown",
   "metadata": {},
   "source": [
    "c. How can missing values be identified in the data analysis?"
   ]
  },
  {
   "cell_type": "markdown",
   "metadata": {},
   "source": [
    "We could use some following methods to identify missing values:\n",
    "\n",
    "- .isnull().sum(): return the number of missing values recognized by the system \n",
    "https://pandas.pydata.org/docs/reference/api/pandas.isnull.html\n",
    "https://pandas.pydata.org/docs/reference/api/pandas.DataFrame.sum.html\n",
    "- .dtypes(): --> check the feature with type 'object'\n",
    "https://pandas.pydata.org/docs/reference/api/pandas.DataFrame.dtypes.html\n",
    "- .info() to print a concise summary of our dataframe: https://pandas.pydata.org/docs/reference/api/pandas.DataFrame.info.html\n",
    "- .nunique() to see the number of unique values in each feature: https://pandas.pydata.org/docs/reference/api/pandas.DataFrame.nunique.html\n",
    "- .unique() to \n",
    "https://pandas.pydata.org/docs/reference/api/pandas.unique.html\n",
    "- .describe() to generate some descriptive statistics: https://pandas.pydata.org/docs/reference/api/pandas.DataFrame.describe.html\n",
    "- .min() and .max(): to check if there are unexpected numbers\n",
    "https://pandas.pydata.org/docs/reference/api/pandas.DataFrame.min.html\n",
    "https://pandas.pydata.org/docs/reference/api/pandas.DataFrame.max.html#pandas.DataFrame.max\n",
    "\n",
    "\n",
    "\n"
   ]
  },
  {
   "cell_type": "markdown",
   "metadata": {},
   "source": [
    "# PRACTICE (70%)\n",
    "\n",
    "You work as a data scientist in a start-up. You opened your business a year ago and now you want to take the next step and expand your services. Your business model is to operate a platform where people who have a business idea but do not have the required money can register and collect money for their project within a given time. On the other hand, you have financiers who would like to invest their money in projects and who are looking for investments. As an intermediary, your platform brings together borrowers and lenders. You earn your money with a commission for every project that lands on your platform.\n",
    "Your database is the history of your platform. All projects are completed projects, i.e. the time to raise money for your project has expired. Your business model stipulates that the money collected will be paid out even if the target amount has not been reached.\n",
    "There are NO duplicates in the record.\n",
    "The split data record contains the following columns (including meaning):\n",
    "\n",
    "\n",
    "- funded_amount ... amount received / paid amount in USD at the end of the crowdfunding period\n",
    "- loan_amount ... Target amount (amount that you wanted to achieve with funding) in USD\n",
    "- activity ... Sub-category to which the goal of crowdfunding belongs thematically\n",
    "- sector ... main category in which the crowdfunding topic falls\n",
    "- use ... Brief description of what the money should be used for\n",
    "- country_code ... Country code according to ISO standard\n",
    "- country ... country name according to ISO standard\n",
    "- region ... Region\n",
    "- currency ... Currency in which the funded_amount was then paid out\n",
    "- term in months ... Duration over which the loan is to be paid out\n",
    "- lender_count ... Lender (i.e. how many people gave money for the project)\n",
    "- borrower_genders ... gender and number of borrowers, i.e. those who initiated the crowdfunding project\n",
    "- repayment interval ... repayment modalities / frequency"
   ]
  },
  {
   "cell_type": "markdown",
   "metadata": {},
   "source": [
    "## Import libraries and data"
   ]
  },
  {
   "cell_type": "markdown",
   "metadata": {},
   "source": [
    "### Import libraries"
   ]
  },
  {
   "cell_type": "markdown",
   "metadata": {},
   "source": [
    "We first import all libraries we need for our analysis"
   ]
  },
  {
   "cell_type": "code",
   "execution_count": 1,
   "metadata": {},
   "outputs": [
    {
     "data": {
      "text/html": [
       "        <script type=\"text/javascript\">\n",
       "        window.PlotlyConfig = {MathJaxConfig: 'local'};\n",
       "        if (window.MathJax) {MathJax.Hub.Config({SVG: {font: \"STIX-Web\"}});}\n",
       "        if (typeof require !== 'undefined') {\n",
       "        require.undef(\"plotly\");\n",
       "        requirejs.config({\n",
       "            paths: {\n",
       "                'plotly': ['https://cdn.plot.ly/plotly-2.6.3.min']\n",
       "            }\n",
       "        });\n",
       "        require(['plotly'], function(Plotly) {\n",
       "            window._Plotly = Plotly;\n",
       "        });\n",
       "        }\n",
       "        </script>\n",
       "        "
      ]
     },
     "metadata": {},
     "output_type": "display_data"
    }
   ],
   "source": [
    "import pandas as pd\n",
    "import numpy as np\n",
    "import matplotlib.pyplot as plt\n",
    "import seaborn as sns\n",
    "from plotly.offline import init_notebook_mode, iplot\n",
    "init_notebook_mode(connected=True)"
   ]
  },
  {
   "cell_type": "markdown",
   "metadata": {},
   "source": [
    "### Collect data"
   ]
  },
  {
   "cell_type": "markdown",
   "metadata": {},
   "source": [
    "We import the first data .csv due to the library pandas: https://pandas.pydata.org/docs/reference/api/pandas.read_csv.html\n",
    "and use .head() https://pandas.pydata.org/docs/reference/api/pandas.DataFrame.head.html to see the first 5 rows"
   ]
  },
  {
   "cell_type": "code",
   "execution_count": 2,
   "metadata": {},
   "outputs": [
    {
     "data": {
      "text/html": [
       "<div>\n",
       "<style scoped>\n",
       "    .dataframe tbody tr th:only-of-type {\n",
       "        vertical-align: middle;\n",
       "    }\n",
       "\n",
       "    .dataframe tbody tr th {\n",
       "        vertical-align: top;\n",
       "    }\n",
       "\n",
       "    .dataframe thead th {\n",
       "        text-align: right;\n",
       "    }\n",
       "</style>\n",
       "<table border=\"1\" class=\"dataframe\">\n",
       "  <thead>\n",
       "    <tr style=\"text-align: right;\">\n",
       "      <th></th>\n",
       "      <th>Unnamed: 0</th>\n",
       "      <th>funded_amount</th>\n",
       "      <th>loan_amount</th>\n",
       "      <th>activity</th>\n",
       "      <th>sector</th>\n",
       "      <th>use</th>\n",
       "      <th>country_code</th>\n",
       "      <th>country</th>\n",
       "      <th>region</th>\n",
       "      <th>currency</th>\n",
       "      <th>term_in_months</th>\n",
       "      <th>lender_count</th>\n",
       "      <th>borrower_genders</th>\n",
       "      <th>repayment_interval</th>\n",
       "    </tr>\n",
       "  </thead>\n",
       "  <tbody>\n",
       "    <tr>\n",
       "      <th>0</th>\n",
       "      <td>0</td>\n",
       "      <td>300.0</td>\n",
       "      <td>300.0</td>\n",
       "      <td>Fruits &amp; Vegetables</td>\n",
       "      <td>Food</td>\n",
       "      <td>To buy seasonal, fresh fruits to sell.</td>\n",
       "      <td>PK</td>\n",
       "      <td>Pakistan</td>\n",
       "      <td>Lahore</td>\n",
       "      <td>PKR</td>\n",
       "      <td>12.0</td>\n",
       "      <td>12</td>\n",
       "      <td>female</td>\n",
       "      <td>irregular</td>\n",
       "    </tr>\n",
       "    <tr>\n",
       "      <th>1</th>\n",
       "      <td>1</td>\n",
       "      <td>575.0</td>\n",
       "      <td>575.0</td>\n",
       "      <td>Rickshaw</td>\n",
       "      <td>Transportation</td>\n",
       "      <td>to repair and maintain the auto rickshaw used ...</td>\n",
       "      <td>PK</td>\n",
       "      <td>Pakistan</td>\n",
       "      <td>Lahore</td>\n",
       "      <td>PKR</td>\n",
       "      <td>11.0</td>\n",
       "      <td>14</td>\n",
       "      <td>female, female</td>\n",
       "      <td>irregular</td>\n",
       "    </tr>\n",
       "    <tr>\n",
       "      <th>2</th>\n",
       "      <td>2</td>\n",
       "      <td>150.0</td>\n",
       "      <td>150.0</td>\n",
       "      <td>Transportation</td>\n",
       "      <td>Transportation</td>\n",
       "      <td>To repair their old cycle-van and buy another ...</td>\n",
       "      <td>IN</td>\n",
       "      <td>India</td>\n",
       "      <td>Maynaguri</td>\n",
       "      <td>INR</td>\n",
       "      <td>43.0</td>\n",
       "      <td>6</td>\n",
       "      <td>female</td>\n",
       "      <td>bullet</td>\n",
       "    </tr>\n",
       "    <tr>\n",
       "      <th>3</th>\n",
       "      <td>3</td>\n",
       "      <td>200.0</td>\n",
       "      <td>200.0</td>\n",
       "      <td>Embroidery</td>\n",
       "      <td>Arts</td>\n",
       "      <td>to purchase an embroidery machine and a variet...</td>\n",
       "      <td>PK</td>\n",
       "      <td>Pakistan</td>\n",
       "      <td>Lahore</td>\n",
       "      <td>PKR</td>\n",
       "      <td>11.0</td>\n",
       "      <td>8</td>\n",
       "      <td>female</td>\n",
       "      <td>irregular</td>\n",
       "    </tr>\n",
       "    <tr>\n",
       "      <th>4</th>\n",
       "      <td>4</td>\n",
       "      <td>400.0</td>\n",
       "      <td>400.0</td>\n",
       "      <td>Milk Sales</td>\n",
       "      <td>Food</td>\n",
       "      <td>to purchase one buffalo.</td>\n",
       "      <td>PK</td>\n",
       "      <td>Pakistan</td>\n",
       "      <td>Abdul Hakeem</td>\n",
       "      <td>PKR</td>\n",
       "      <td>14.0</td>\n",
       "      <td>16</td>\n",
       "      <td>female</td>\n",
       "      <td>monthly</td>\n",
       "    </tr>\n",
       "  </tbody>\n",
       "</table>\n",
       "</div>"
      ],
      "text/plain": [
       "   Unnamed: 0  funded_amount  loan_amount             activity  \\\n",
       "0           0          300.0        300.0  Fruits & Vegetables   \n",
       "1           1          575.0        575.0             Rickshaw   \n",
       "2           2          150.0        150.0       Transportation   \n",
       "3           3          200.0        200.0           Embroidery   \n",
       "4           4          400.0        400.0           Milk Sales   \n",
       "\n",
       "           sector                                                use  \\\n",
       "0            Food            To buy seasonal, fresh fruits to sell.    \n",
       "1  Transportation  to repair and maintain the auto rickshaw used ...   \n",
       "2  Transportation  To repair their old cycle-van and buy another ...   \n",
       "3            Arts  to purchase an embroidery machine and a variet...   \n",
       "4            Food                           to purchase one buffalo.   \n",
       "\n",
       "  country_code   country        region currency  term_in_months  lender_count  \\\n",
       "0           PK  Pakistan        Lahore      PKR            12.0            12   \n",
       "1           PK  Pakistan        Lahore      PKR            11.0            14   \n",
       "2           IN     India     Maynaguri      INR            43.0             6   \n",
       "3           PK  Pakistan        Lahore      PKR            11.0             8   \n",
       "4           PK  Pakistan  Abdul Hakeem      PKR            14.0            16   \n",
       "\n",
       "  borrower_genders repayment_interval  \n",
       "0           female          irregular  \n",
       "1   female, female          irregular  \n",
       "2           female             bullet  \n",
       "3           female          irregular  \n",
       "4           female            monthly  "
      ]
     },
     "execution_count": 2,
     "metadata": {},
     "output_type": "execute_result"
    }
   ],
   "source": [
    "df1 = pd.read_csv('part1.csv')\n",
    "df1.head()"
   ]
  },
  {
   "cell_type": "markdown",
   "metadata": {},
   "source": [
    "We check the shape of this first data https://pandas.pydata.org/docs/reference/api/pandas.DataFrame.shape.html"
   ]
  },
  {
   "cell_type": "code",
   "execution_count": 3,
   "metadata": {},
   "outputs": [
    {
     "data": {
      "text/plain": [
       "(335000, 14)"
      ]
     },
     "execution_count": 3,
     "metadata": {},
     "output_type": "execute_result"
    }
   ],
   "source": [
    "df1.shape"
   ]
  },
  {
   "cell_type": "markdown",
   "metadata": {},
   "source": [
    "Now we import the second data and see the first 5 rows"
   ]
  },
  {
   "cell_type": "code",
   "execution_count": 4,
   "metadata": {},
   "outputs": [
    {
     "data": {
      "text/html": [
       "<div>\n",
       "<style scoped>\n",
       "    .dataframe tbody tr th:only-of-type {\n",
       "        vertical-align: middle;\n",
       "    }\n",
       "\n",
       "    .dataframe tbody tr th {\n",
       "        vertical-align: top;\n",
       "    }\n",
       "\n",
       "    .dataframe thead th {\n",
       "        text-align: right;\n",
       "    }\n",
       "</style>\n",
       "<table border=\"1\" class=\"dataframe\">\n",
       "  <thead>\n",
       "    <tr style=\"text-align: right;\">\n",
       "      <th></th>\n",
       "      <th>Unnamed: 0</th>\n",
       "      <th>funded_amount</th>\n",
       "      <th>loan_amount</th>\n",
       "      <th>activity</th>\n",
       "      <th>sector</th>\n",
       "      <th>use</th>\n",
       "      <th>country_code</th>\n",
       "      <th>country</th>\n",
       "      <th>region</th>\n",
       "      <th>currency</th>\n",
       "      <th>term_in_months</th>\n",
       "      <th>lender_count</th>\n",
       "      <th>borrower_genders</th>\n",
       "      <th>repayment_interval</th>\n",
       "    </tr>\n",
       "  </thead>\n",
       "  <tbody>\n",
       "    <tr>\n",
       "      <th>0</th>\n",
       "      <td>0</td>\n",
       "      <td>175.0</td>\n",
       "      <td>175.0</td>\n",
       "      <td>Liquor Store / Off-License</td>\n",
       "      <td>Food</td>\n",
       "      <td>to purchase additional stock of coconut wine t...</td>\n",
       "      <td>PH</td>\n",
       "      <td>Philippines</td>\n",
       "      <td>Palo, Leyte</td>\n",
       "      <td>PHP</td>\n",
       "      <td>8.0</td>\n",
       "      <td>6</td>\n",
       "      <td>female</td>\n",
       "      <td>irregular</td>\n",
       "    </tr>\n",
       "    <tr>\n",
       "      <th>1</th>\n",
       "      <td>1</td>\n",
       "      <td>325.0</td>\n",
       "      <td>325.0</td>\n",
       "      <td>Livestock</td>\n",
       "      <td>Agriculture</td>\n",
       "      <td>to buy 3 zebus and food to fatten them up.</td>\n",
       "      <td>MG</td>\n",
       "      <td>Madagascar</td>\n",
       "      <td>Antsirabe</td>\n",
       "      <td>MGA</td>\n",
       "      <td>12.0</td>\n",
       "      <td>13</td>\n",
       "      <td>female</td>\n",
       "      <td>monthly</td>\n",
       "    </tr>\n",
       "    <tr>\n",
       "      <th>2</th>\n",
       "      <td>2</td>\n",
       "      <td>550.0</td>\n",
       "      <td>550.0</td>\n",
       "      <td>Food Stall</td>\n",
       "      <td>Food</td>\n",
       "      <td>to buy ingredients for her food-vending busine...</td>\n",
       "      <td>PH</td>\n",
       "      <td>Philippines</td>\n",
       "      <td>Cordova, Cebu</td>\n",
       "      <td>PHP</td>\n",
       "      <td>5.0</td>\n",
       "      <td>6</td>\n",
       "      <td>female</td>\n",
       "      <td>irregular</td>\n",
       "    </tr>\n",
       "    <tr>\n",
       "      <th>3</th>\n",
       "      <td>3</td>\n",
       "      <td>1300.0</td>\n",
       "      <td>1300.0</td>\n",
       "      <td>Cattle</td>\n",
       "      <td>Agriculture</td>\n",
       "      <td>to buy one head of cattle.</td>\n",
       "      <td>EG</td>\n",
       "      <td>Egypt</td>\n",
       "      <td>Baniswef</td>\n",
       "      <td>EGP</td>\n",
       "      <td>14.0</td>\n",
       "      <td>50</td>\n",
       "      <td>male</td>\n",
       "      <td>monthly</td>\n",
       "    </tr>\n",
       "    <tr>\n",
       "      <th>4</th>\n",
       "      <td>4</td>\n",
       "      <td>900.0</td>\n",
       "      <td>900.0</td>\n",
       "      <td>Consumer Goods</td>\n",
       "      <td>Personal Use</td>\n",
       "      <td>to buy consumer goods amongst others.</td>\n",
       "      <td>PE</td>\n",
       "      <td>Peru</td>\n",
       "      <td>Urubamba - Urubamba - Cusco</td>\n",
       "      <td>PEN</td>\n",
       "      <td>6.0</td>\n",
       "      <td>1</td>\n",
       "      <td>female</td>\n",
       "      <td>irregular</td>\n",
       "    </tr>\n",
       "  </tbody>\n",
       "</table>\n",
       "</div>"
      ],
      "text/plain": [
       "   Unnamed: 0  funded_amount  loan_amount                    activity  \\\n",
       "0           0          175.0        175.0  Liquor Store / Off-License   \n",
       "1           1          325.0        325.0                   Livestock   \n",
       "2           2          550.0        550.0                  Food Stall   \n",
       "3           3         1300.0       1300.0                      Cattle   \n",
       "4           4          900.0        900.0              Consumer Goods   \n",
       "\n",
       "         sector                                                use  \\\n",
       "0          Food  to purchase additional stock of coconut wine t...   \n",
       "1   Agriculture         to buy 3 zebus and food to fatten them up.   \n",
       "2          Food  to buy ingredients for her food-vending busine...   \n",
       "3   Agriculture                         to buy one head of cattle.   \n",
       "4  Personal Use              to buy consumer goods amongst others.   \n",
       "\n",
       "  country_code      country                       region currency  \\\n",
       "0           PH  Philippines                  Palo, Leyte      PHP   \n",
       "1           MG   Madagascar                    Antsirabe      MGA   \n",
       "2           PH  Philippines                Cordova, Cebu      PHP   \n",
       "3           EG        Egypt                     Baniswef      EGP   \n",
       "4           PE         Peru  Urubamba - Urubamba - Cusco      PEN   \n",
       "\n",
       "   term_in_months  lender_count borrower_genders repayment_interval  \n",
       "0             8.0             6           female          irregular  \n",
       "1            12.0            13           female            monthly  \n",
       "2             5.0             6           female          irregular  \n",
       "3            14.0            50             male            monthly  \n",
       "4             6.0             1           female          irregular  "
      ]
     },
     "execution_count": 4,
     "metadata": {},
     "output_type": "execute_result"
    }
   ],
   "source": [
    "df2 = pd.read_csv('part2.csv', sep='#')\n",
    "df2.head()"
   ]
  },
  {
   "cell_type": "markdown",
   "metadata": {},
   "source": [
    "Then we check the shape of this second data"
   ]
  },
  {
   "cell_type": "code",
   "execution_count": 5,
   "metadata": {
    "scrolled": false
   },
   "outputs": [
    {
     "data": {
      "text/plain": [
       "(336205, 14)"
      ]
     },
     "execution_count": 5,
     "metadata": {},
     "output_type": "execute_result"
    }
   ],
   "source": [
    "df2.shape"
   ]
  },
  {
   "cell_type": "markdown",
   "metadata": {},
   "source": [
    "We see that two datas share the same features, therefore we could combine two data into a bigger data by using concat in library pandas: https://pandas.pydata.org/docs/reference/api/pandas.concat.html\n",
    "and see the first 5 rows to check"
   ]
  },
  {
   "cell_type": "code",
   "execution_count": 6,
   "metadata": {},
   "outputs": [
    {
     "data": {
      "text/html": [
       "<div>\n",
       "<style scoped>\n",
       "    .dataframe tbody tr th:only-of-type {\n",
       "        vertical-align: middle;\n",
       "    }\n",
       "\n",
       "    .dataframe tbody tr th {\n",
       "        vertical-align: top;\n",
       "    }\n",
       "\n",
       "    .dataframe thead th {\n",
       "        text-align: right;\n",
       "    }\n",
       "</style>\n",
       "<table border=\"1\" class=\"dataframe\">\n",
       "  <thead>\n",
       "    <tr style=\"text-align: right;\">\n",
       "      <th></th>\n",
       "      <th>Unnamed: 0</th>\n",
       "      <th>funded_amount</th>\n",
       "      <th>loan_amount</th>\n",
       "      <th>activity</th>\n",
       "      <th>sector</th>\n",
       "      <th>use</th>\n",
       "      <th>country_code</th>\n",
       "      <th>country</th>\n",
       "      <th>region</th>\n",
       "      <th>currency</th>\n",
       "      <th>term_in_months</th>\n",
       "      <th>lender_count</th>\n",
       "      <th>borrower_genders</th>\n",
       "      <th>repayment_interval</th>\n",
       "    </tr>\n",
       "  </thead>\n",
       "  <tbody>\n",
       "    <tr>\n",
       "      <th>0</th>\n",
       "      <td>0</td>\n",
       "      <td>300.0</td>\n",
       "      <td>300.0</td>\n",
       "      <td>Fruits &amp; Vegetables</td>\n",
       "      <td>Food</td>\n",
       "      <td>To buy seasonal, fresh fruits to sell.</td>\n",
       "      <td>PK</td>\n",
       "      <td>Pakistan</td>\n",
       "      <td>Lahore</td>\n",
       "      <td>PKR</td>\n",
       "      <td>12.0</td>\n",
       "      <td>12</td>\n",
       "      <td>female</td>\n",
       "      <td>irregular</td>\n",
       "    </tr>\n",
       "    <tr>\n",
       "      <th>1</th>\n",
       "      <td>1</td>\n",
       "      <td>575.0</td>\n",
       "      <td>575.0</td>\n",
       "      <td>Rickshaw</td>\n",
       "      <td>Transportation</td>\n",
       "      <td>to repair and maintain the auto rickshaw used ...</td>\n",
       "      <td>PK</td>\n",
       "      <td>Pakistan</td>\n",
       "      <td>Lahore</td>\n",
       "      <td>PKR</td>\n",
       "      <td>11.0</td>\n",
       "      <td>14</td>\n",
       "      <td>female, female</td>\n",
       "      <td>irregular</td>\n",
       "    </tr>\n",
       "    <tr>\n",
       "      <th>2</th>\n",
       "      <td>2</td>\n",
       "      <td>150.0</td>\n",
       "      <td>150.0</td>\n",
       "      <td>Transportation</td>\n",
       "      <td>Transportation</td>\n",
       "      <td>To repair their old cycle-van and buy another ...</td>\n",
       "      <td>IN</td>\n",
       "      <td>India</td>\n",
       "      <td>Maynaguri</td>\n",
       "      <td>INR</td>\n",
       "      <td>43.0</td>\n",
       "      <td>6</td>\n",
       "      <td>female</td>\n",
       "      <td>bullet</td>\n",
       "    </tr>\n",
       "    <tr>\n",
       "      <th>3</th>\n",
       "      <td>3</td>\n",
       "      <td>200.0</td>\n",
       "      <td>200.0</td>\n",
       "      <td>Embroidery</td>\n",
       "      <td>Arts</td>\n",
       "      <td>to purchase an embroidery machine and a variet...</td>\n",
       "      <td>PK</td>\n",
       "      <td>Pakistan</td>\n",
       "      <td>Lahore</td>\n",
       "      <td>PKR</td>\n",
       "      <td>11.0</td>\n",
       "      <td>8</td>\n",
       "      <td>female</td>\n",
       "      <td>irregular</td>\n",
       "    </tr>\n",
       "    <tr>\n",
       "      <th>4</th>\n",
       "      <td>4</td>\n",
       "      <td>400.0</td>\n",
       "      <td>400.0</td>\n",
       "      <td>Milk Sales</td>\n",
       "      <td>Food</td>\n",
       "      <td>to purchase one buffalo.</td>\n",
       "      <td>PK</td>\n",
       "      <td>Pakistan</td>\n",
       "      <td>Abdul Hakeem</td>\n",
       "      <td>PKR</td>\n",
       "      <td>14.0</td>\n",
       "      <td>16</td>\n",
       "      <td>female</td>\n",
       "      <td>monthly</td>\n",
       "    </tr>\n",
       "  </tbody>\n",
       "</table>\n",
       "</div>"
      ],
      "text/plain": [
       "   Unnamed: 0  funded_amount  loan_amount             activity  \\\n",
       "0           0          300.0        300.0  Fruits & Vegetables   \n",
       "1           1          575.0        575.0             Rickshaw   \n",
       "2           2          150.0        150.0       Transportation   \n",
       "3           3          200.0        200.0           Embroidery   \n",
       "4           4          400.0        400.0           Milk Sales   \n",
       "\n",
       "           sector                                                use  \\\n",
       "0            Food            To buy seasonal, fresh fruits to sell.    \n",
       "1  Transportation  to repair and maintain the auto rickshaw used ...   \n",
       "2  Transportation  To repair their old cycle-van and buy another ...   \n",
       "3            Arts  to purchase an embroidery machine and a variet...   \n",
       "4            Food                           to purchase one buffalo.   \n",
       "\n",
       "  country_code   country        region currency  term_in_months  lender_count  \\\n",
       "0           PK  Pakistan        Lahore      PKR            12.0            12   \n",
       "1           PK  Pakistan        Lahore      PKR            11.0            14   \n",
       "2           IN     India     Maynaguri      INR            43.0             6   \n",
       "3           PK  Pakistan        Lahore      PKR            11.0             8   \n",
       "4           PK  Pakistan  Abdul Hakeem      PKR            14.0            16   \n",
       "\n",
       "  borrower_genders repayment_interval  \n",
       "0           female          irregular  \n",
       "1   female, female          irregular  \n",
       "2           female             bullet  \n",
       "3           female          irregular  \n",
       "4           female            monthly  "
      ]
     },
     "execution_count": 6,
     "metadata": {},
     "output_type": "execute_result"
    }
   ],
   "source": [
    "df = pd.concat([df1,df2], axis=0)\n",
    "df.head()"
   ]
  },
  {
   "cell_type": "markdown",
   "metadata": {},
   "source": [
    "Then we check the shape of our new data which looks fine"
   ]
  },
  {
   "cell_type": "code",
   "execution_count": 7,
   "metadata": {
    "scrolled": true
   },
   "outputs": [
    {
     "data": {
      "text/plain": [
       "(671205, 14)"
      ]
     },
     "execution_count": 7,
     "metadata": {},
     "output_type": "execute_result"
    }
   ],
   "source": [
    "df.shape"
   ]
  },
  {
   "cell_type": "markdown",
   "metadata": {},
   "source": [
    "## Data Preprocessing "
   ]
  },
  {
   "cell_type": "markdown",
   "metadata": {},
   "source": [
    "### First look at the data"
   ]
  },
  {
   "cell_type": "markdown",
   "metadata": {},
   "source": [
    "We first take a look at our data by using \n",
    "\n",
    "- .nunique() to see the number of unique values in each feature: https://pandas.pydata.org/docs/reference/api/pandas.DataFrame.nunique.html\n",
    "- .isnull().sum() to see how many null values in each feature:\n",
    "https://pandas.pydata.org/docs/reference/api/pandas.isnull.html\n",
    "https://pandas.pydata.org/docs/reference/api/pandas.DataFrame.sum.html\n",
    "- .describe() to generate some descriptive statistics: https://pandas.pydata.org/docs/reference/api/pandas.DataFrame.describe.html\n",
    "- .info() to print a concise summary of our dataframe: https://pandas.pydata.org/docs/reference/api/pandas.DataFrame.info.html"
   ]
  },
  {
   "cell_type": "code",
   "execution_count": 8,
   "metadata": {},
   "outputs": [
    {
     "data": {
      "text/plain": [
       "Unnamed: 0            336205\n",
       "funded_amount            610\n",
       "loan_amount              479\n",
       "activity                 163\n",
       "sector                    15\n",
       "use                   424912\n",
       "country_code              86\n",
       "country                   87\n",
       "region                 12695\n",
       "currency                  67\n",
       "term_in_months           148\n",
       "lender_count             503\n",
       "borrower_genders       11298\n",
       "repayment_interval         4\n",
       "dtype: int64"
      ]
     },
     "execution_count": 8,
     "metadata": {},
     "output_type": "execute_result"
    }
   ],
   "source": [
    "df.nunique()"
   ]
  },
  {
   "cell_type": "code",
   "execution_count": 9,
   "metadata": {
    "scrolled": true
   },
   "outputs": [
    {
     "data": {
      "text/plain": [
       "Unnamed: 0                0\n",
       "funded_amount             0\n",
       "loan_amount               0\n",
       "activity                  0\n",
       "sector                    0\n",
       "use                    4232\n",
       "country_code              8\n",
       "country                   0\n",
       "region                56800\n",
       "currency                  0\n",
       "term_in_months            0\n",
       "lender_count              0\n",
       "borrower_genders       4221\n",
       "repayment_interval        0\n",
       "dtype: int64"
      ]
     },
     "execution_count": 9,
     "metadata": {},
     "output_type": "execute_result"
    }
   ],
   "source": [
    "df.isnull().sum()"
   ]
  },
  {
   "cell_type": "code",
   "execution_count": 10,
   "metadata": {},
   "outputs": [
    {
     "data": {
      "text/html": [
       "<div>\n",
       "<style scoped>\n",
       "    .dataframe tbody tr th:only-of-type {\n",
       "        vertical-align: middle;\n",
       "    }\n",
       "\n",
       "    .dataframe tbody tr th {\n",
       "        vertical-align: top;\n",
       "    }\n",
       "\n",
       "    .dataframe thead th {\n",
       "        text-align: right;\n",
       "    }\n",
       "</style>\n",
       "<table border=\"1\" class=\"dataframe\">\n",
       "  <thead>\n",
       "    <tr style=\"text-align: right;\">\n",
       "      <th></th>\n",
       "      <th>Unnamed: 0</th>\n",
       "      <th>funded_amount</th>\n",
       "      <th>loan_amount</th>\n",
       "      <th>term_in_months</th>\n",
       "      <th>lender_count</th>\n",
       "    </tr>\n",
       "  </thead>\n",
       "  <tbody>\n",
       "    <tr>\n",
       "      <th>count</th>\n",
       "      <td>671205.000000</td>\n",
       "      <td>671205.000000</td>\n",
       "      <td>671205.000000</td>\n",
       "      <td>671205.000000</td>\n",
       "      <td>671205.000000</td>\n",
       "    </tr>\n",
       "    <tr>\n",
       "      <th>mean</th>\n",
       "      <td>167801.290828</td>\n",
       "      <td>785.995061</td>\n",
       "      <td>842.397107</td>\n",
       "      <td>13.739022</td>\n",
       "      <td>20.590922</td>\n",
       "    </tr>\n",
       "    <tr>\n",
       "      <th>std</th>\n",
       "      <td>96881.105762</td>\n",
       "      <td>1130.398941</td>\n",
       "      <td>1198.660073</td>\n",
       "      <td>8.598919</td>\n",
       "      <td>28.459551</td>\n",
       "    </tr>\n",
       "    <tr>\n",
       "      <th>min</th>\n",
       "      <td>0.000000</td>\n",
       "      <td>0.000000</td>\n",
       "      <td>25.000000</td>\n",
       "      <td>1.000000</td>\n",
       "      <td>0.000000</td>\n",
       "    </tr>\n",
       "    <tr>\n",
       "      <th>25%</th>\n",
       "      <td>83900.000000</td>\n",
       "      <td>250.000000</td>\n",
       "      <td>275.000000</td>\n",
       "      <td>8.000000</td>\n",
       "      <td>7.000000</td>\n",
       "    </tr>\n",
       "    <tr>\n",
       "      <th>50%</th>\n",
       "      <td>167801.000000</td>\n",
       "      <td>450.000000</td>\n",
       "      <td>500.000000</td>\n",
       "      <td>13.000000</td>\n",
       "      <td>13.000000</td>\n",
       "    </tr>\n",
       "    <tr>\n",
       "      <th>75%</th>\n",
       "      <td>251701.000000</td>\n",
       "      <td>900.000000</td>\n",
       "      <td>1000.000000</td>\n",
       "      <td>14.000000</td>\n",
       "      <td>24.000000</td>\n",
       "    </tr>\n",
       "    <tr>\n",
       "      <th>max</th>\n",
       "      <td>336204.000000</td>\n",
       "      <td>100000.000000</td>\n",
       "      <td>100000.000000</td>\n",
       "      <td>158.000000</td>\n",
       "      <td>2986.000000</td>\n",
       "    </tr>\n",
       "  </tbody>\n",
       "</table>\n",
       "</div>"
      ],
      "text/plain": [
       "          Unnamed: 0  funded_amount    loan_amount  term_in_months  \\\n",
       "count  671205.000000  671205.000000  671205.000000   671205.000000   \n",
       "mean   167801.290828     785.995061     842.397107       13.739022   \n",
       "std     96881.105762    1130.398941    1198.660073        8.598919   \n",
       "min         0.000000       0.000000      25.000000        1.000000   \n",
       "25%     83900.000000     250.000000     275.000000        8.000000   \n",
       "50%    167801.000000     450.000000     500.000000       13.000000   \n",
       "75%    251701.000000     900.000000    1000.000000       14.000000   \n",
       "max    336204.000000  100000.000000  100000.000000      158.000000   \n",
       "\n",
       "        lender_count  \n",
       "count  671205.000000  \n",
       "mean       20.590922  \n",
       "std        28.459551  \n",
       "min         0.000000  \n",
       "25%         7.000000  \n",
       "50%        13.000000  \n",
       "75%        24.000000  \n",
       "max      2986.000000  "
      ]
     },
     "execution_count": 10,
     "metadata": {},
     "output_type": "execute_result"
    }
   ],
   "source": [
    "df.describe()"
   ]
  },
  {
   "cell_type": "code",
   "execution_count": 11,
   "metadata": {
    "scrolled": true
   },
   "outputs": [
    {
     "name": "stdout",
     "output_type": "stream",
     "text": [
      "<class 'pandas.core.frame.DataFrame'>\n",
      "Int64Index: 671205 entries, 0 to 336204\n",
      "Data columns (total 14 columns):\n",
      " #   Column              Non-Null Count   Dtype  \n",
      "---  ------              --------------   -----  \n",
      " 0   Unnamed: 0          671205 non-null  int64  \n",
      " 1   funded_amount       671205 non-null  float64\n",
      " 2   loan_amount         671205 non-null  float64\n",
      " 3   activity            671205 non-null  object \n",
      " 4   sector              671205 non-null  object \n",
      " 5   use                 666973 non-null  object \n",
      " 6   country_code        671197 non-null  object \n",
      " 7   country             671205 non-null  object \n",
      " 8   region              614405 non-null  object \n",
      " 9   currency            671205 non-null  object \n",
      " 10  term_in_months      671205 non-null  float64\n",
      " 11  lender_count        671205 non-null  int64  \n",
      " 12  borrower_genders    666984 non-null  object \n",
      " 13  repayment_interval  671205 non-null  object \n",
      "dtypes: float64(3), int64(2), object(9)\n",
      "memory usage: 76.8+ MB\n"
     ]
    }
   ],
   "source": [
    "df.info()"
   ]
  },
  {
   "cell_type": "markdown",
   "metadata": {},
   "source": [
    "<font size=\"3\" color=\"#ff00ff\">Comments: \n",
    "- There are missing data at columns: 'use', 'country_code', 'region', 'borrower_genders'.\n",
    "- Some data types could be changed to save memory such as: \n",
    "    - 'funded_amount', 'loan_amount', 'term_in_months', 'lender_count' could be int32\n",
    "    - 'activity', 'sector', 'use', 'country_code', 'country', 'region', 'currency', 'borrower_genders', 'repayment_interval'  could be string.\n",
    "- The column 'Unnamed: 0' is not important and could be dropped.\n"
   ]
  },
  {
   "cell_type": "markdown",
   "metadata": {},
   "source": [
    "#### Drop unnecessary data"
   ]
  },
  {
   "cell_type": "markdown",
   "metadata": {},
   "source": [
    "We drop the unnecessery feature 'Unnamed: 0' by using .drop: https://pandas.pydata.org/docs/reference/api/pandas.DataFrame.drop.html\n",
    "and see the first 5 rows as well as the shape of our new data."
   ]
  },
  {
   "cell_type": "code",
   "execution_count": 12,
   "metadata": {
    "scrolled": false
   },
   "outputs": [],
   "source": [
    "df.drop(['Unnamed: 0'],axis= 1,inplace=True)"
   ]
  },
  {
   "cell_type": "code",
   "execution_count": 13,
   "metadata": {},
   "outputs": [
    {
     "data": {
      "text/html": [
       "<div>\n",
       "<style scoped>\n",
       "    .dataframe tbody tr th:only-of-type {\n",
       "        vertical-align: middle;\n",
       "    }\n",
       "\n",
       "    .dataframe tbody tr th {\n",
       "        vertical-align: top;\n",
       "    }\n",
       "\n",
       "    .dataframe thead th {\n",
       "        text-align: right;\n",
       "    }\n",
       "</style>\n",
       "<table border=\"1\" class=\"dataframe\">\n",
       "  <thead>\n",
       "    <tr style=\"text-align: right;\">\n",
       "      <th></th>\n",
       "      <th>funded_amount</th>\n",
       "      <th>loan_amount</th>\n",
       "      <th>activity</th>\n",
       "      <th>sector</th>\n",
       "      <th>use</th>\n",
       "      <th>country_code</th>\n",
       "      <th>country</th>\n",
       "      <th>region</th>\n",
       "      <th>currency</th>\n",
       "      <th>term_in_months</th>\n",
       "      <th>lender_count</th>\n",
       "      <th>borrower_genders</th>\n",
       "      <th>repayment_interval</th>\n",
       "    </tr>\n",
       "  </thead>\n",
       "  <tbody>\n",
       "    <tr>\n",
       "      <th>0</th>\n",
       "      <td>300.0</td>\n",
       "      <td>300.0</td>\n",
       "      <td>Fruits &amp; Vegetables</td>\n",
       "      <td>Food</td>\n",
       "      <td>To buy seasonal, fresh fruits to sell.</td>\n",
       "      <td>PK</td>\n",
       "      <td>Pakistan</td>\n",
       "      <td>Lahore</td>\n",
       "      <td>PKR</td>\n",
       "      <td>12.0</td>\n",
       "      <td>12</td>\n",
       "      <td>female</td>\n",
       "      <td>irregular</td>\n",
       "    </tr>\n",
       "    <tr>\n",
       "      <th>1</th>\n",
       "      <td>575.0</td>\n",
       "      <td>575.0</td>\n",
       "      <td>Rickshaw</td>\n",
       "      <td>Transportation</td>\n",
       "      <td>to repair and maintain the auto rickshaw used ...</td>\n",
       "      <td>PK</td>\n",
       "      <td>Pakistan</td>\n",
       "      <td>Lahore</td>\n",
       "      <td>PKR</td>\n",
       "      <td>11.0</td>\n",
       "      <td>14</td>\n",
       "      <td>female, female</td>\n",
       "      <td>irregular</td>\n",
       "    </tr>\n",
       "    <tr>\n",
       "      <th>2</th>\n",
       "      <td>150.0</td>\n",
       "      <td>150.0</td>\n",
       "      <td>Transportation</td>\n",
       "      <td>Transportation</td>\n",
       "      <td>To repair their old cycle-van and buy another ...</td>\n",
       "      <td>IN</td>\n",
       "      <td>India</td>\n",
       "      <td>Maynaguri</td>\n",
       "      <td>INR</td>\n",
       "      <td>43.0</td>\n",
       "      <td>6</td>\n",
       "      <td>female</td>\n",
       "      <td>bullet</td>\n",
       "    </tr>\n",
       "    <tr>\n",
       "      <th>3</th>\n",
       "      <td>200.0</td>\n",
       "      <td>200.0</td>\n",
       "      <td>Embroidery</td>\n",
       "      <td>Arts</td>\n",
       "      <td>to purchase an embroidery machine and a variet...</td>\n",
       "      <td>PK</td>\n",
       "      <td>Pakistan</td>\n",
       "      <td>Lahore</td>\n",
       "      <td>PKR</td>\n",
       "      <td>11.0</td>\n",
       "      <td>8</td>\n",
       "      <td>female</td>\n",
       "      <td>irregular</td>\n",
       "    </tr>\n",
       "    <tr>\n",
       "      <th>4</th>\n",
       "      <td>400.0</td>\n",
       "      <td>400.0</td>\n",
       "      <td>Milk Sales</td>\n",
       "      <td>Food</td>\n",
       "      <td>to purchase one buffalo.</td>\n",
       "      <td>PK</td>\n",
       "      <td>Pakistan</td>\n",
       "      <td>Abdul Hakeem</td>\n",
       "      <td>PKR</td>\n",
       "      <td>14.0</td>\n",
       "      <td>16</td>\n",
       "      <td>female</td>\n",
       "      <td>monthly</td>\n",
       "    </tr>\n",
       "  </tbody>\n",
       "</table>\n",
       "</div>"
      ],
      "text/plain": [
       "   funded_amount  loan_amount             activity          sector  \\\n",
       "0          300.0        300.0  Fruits & Vegetables            Food   \n",
       "1          575.0        575.0             Rickshaw  Transportation   \n",
       "2          150.0        150.0       Transportation  Transportation   \n",
       "3          200.0        200.0           Embroidery            Arts   \n",
       "4          400.0        400.0           Milk Sales            Food   \n",
       "\n",
       "                                                 use country_code   country  \\\n",
       "0            To buy seasonal, fresh fruits to sell.            PK  Pakistan   \n",
       "1  to repair and maintain the auto rickshaw used ...           PK  Pakistan   \n",
       "2  To repair their old cycle-van and buy another ...           IN     India   \n",
       "3  to purchase an embroidery machine and a variet...           PK  Pakistan   \n",
       "4                           to purchase one buffalo.           PK  Pakistan   \n",
       "\n",
       "         region currency  term_in_months  lender_count borrower_genders  \\\n",
       "0        Lahore      PKR            12.0            12           female   \n",
       "1        Lahore      PKR            11.0            14   female, female   \n",
       "2     Maynaguri      INR            43.0             6           female   \n",
       "3        Lahore      PKR            11.0             8           female   \n",
       "4  Abdul Hakeem      PKR            14.0            16           female   \n",
       "\n",
       "  repayment_interval  \n",
       "0          irregular  \n",
       "1          irregular  \n",
       "2             bullet  \n",
       "3          irregular  \n",
       "4            monthly  "
      ]
     },
     "execution_count": 13,
     "metadata": {},
     "output_type": "execute_result"
    }
   ],
   "source": [
    "df.head(5)"
   ]
  },
  {
   "cell_type": "code",
   "execution_count": 14,
   "metadata": {},
   "outputs": [
    {
     "data": {
      "text/plain": [
       "(671205, 13)"
      ]
     },
     "execution_count": 14,
     "metadata": {},
     "output_type": "execute_result"
    }
   ],
   "source": [
    "df.shape"
   ]
  },
  {
   "cell_type": "markdown",
   "metadata": {},
   "source": [
    "#### Optimal in memory"
   ]
  },
  {
   "cell_type": "markdown",
   "metadata": {},
   "source": [
    "We change some features from 'float64' or 'int64' into 'int32' by using .astype to save memory: https://pandas.pydata.org/docs/reference/api/pandas.DataFrame.astype.html\n",
    "\n",
    "The memory size is reduced from 71.7MB into 61.5MB after this process."
   ]
  },
  {
   "cell_type": "code",
   "execution_count": 15,
   "metadata": {
    "scrolled": true
   },
   "outputs": [
    {
     "data": {
      "text/plain": [
       "Index                  5369640\n",
       "funded_amount          5369640\n",
       "loan_amount            5369640\n",
       "activity              46521289\n",
       "sector                43603755\n",
       "use                   79433763\n",
       "country_code          39600879\n",
       "country               43923974\n",
       "region                46603210\n",
       "currency              40272300\n",
       "term_in_months         5369640\n",
       "lender_count           5369640\n",
       "borrower_genders      47039080\n",
       "repayment_interval    43400106\n",
       "dtype: int64"
      ]
     },
     "execution_count": 15,
     "metadata": {},
     "output_type": "execute_result"
    }
   ],
   "source": [
    "df.memory_usage(deep=True)"
   ]
  },
  {
   "cell_type": "code",
   "execution_count": 16,
   "metadata": {},
   "outputs": [
    {
     "name": "stdout",
     "output_type": "stream",
     "text": [
      "<class 'pandas.core.frame.DataFrame'>\n",
      "Int64Index: 671205 entries, 0 to 336204\n",
      "Data columns (total 13 columns):\n",
      " #   Column              Non-Null Count   Dtype  \n",
      "---  ------              --------------   -----  \n",
      " 0   funded_amount       671205 non-null  float64\n",
      " 1   loan_amount         671205 non-null  float64\n",
      " 2   activity            671205 non-null  object \n",
      " 3   sector              671205 non-null  object \n",
      " 4   use                 666973 non-null  object \n",
      " 5   country_code        671197 non-null  object \n",
      " 6   country             671205 non-null  object \n",
      " 7   region              614405 non-null  object \n",
      " 8   currency            671205 non-null  object \n",
      " 9   term_in_months      671205 non-null  float64\n",
      " 10  lender_count        671205 non-null  int64  \n",
      " 11  borrower_genders    666984 non-null  object \n",
      " 12  repayment_interval  671205 non-null  object \n",
      "dtypes: float64(3), int64(1), object(9)\n",
      "memory usage: 71.7+ MB\n"
     ]
    }
   ],
   "source": [
    "df.info()"
   ]
  },
  {
   "cell_type": "code",
   "execution_count": 17,
   "metadata": {},
   "outputs": [
    {
     "data": {
      "text/plain": [
       "Index                  5369640\n",
       "funded_amount          2684820\n",
       "loan_amount            2684820\n",
       "activity              46521289\n",
       "sector                43603755\n",
       "use                   79433763\n",
       "country_code          39600879\n",
       "country               43923974\n",
       "region                46603210\n",
       "currency              40272300\n",
       "term_in_months         2684820\n",
       "lender_count           2684820\n",
       "borrower_genders      47039080\n",
       "repayment_interval    43400106\n",
       "dtype: int64"
      ]
     },
     "execution_count": 17,
     "metadata": {},
     "output_type": "execute_result"
    }
   ],
   "source": [
    "df.funded_amount = df.funded_amount.astype('int32')\n",
    "df.loan_amount = df.loan_amount.astype('int32')\n",
    "df.term_in_months = df.term_in_months.astype('int32')\n",
    "df.lender_count = df.lender_count.astype('int32')\n",
    "# df.activity = df.activity.astype('str')\n",
    "# df.sector = df.sector.astype('str')\n",
    "# df.use  = df.use.astype('str')\n",
    "# df.country_code = df.country_code.astype('str')\n",
    "# df.country = df.country.astype('str')\n",
    "# df.region = df.region.astype('str')\n",
    "# df.currency = df.currency.astype('str')\n",
    "# df.borrower_genders = df.borrower_genders.astype('str')\n",
    "# df.repayment_interval = df.repayment_interval.astype('str')\n",
    "\n",
    "df.memory_usage(deep=True)"
   ]
  },
  {
   "cell_type": "code",
   "execution_count": 18,
   "metadata": {
    "scrolled": true
   },
   "outputs": [
    {
     "name": "stdout",
     "output_type": "stream",
     "text": [
      "<class 'pandas.core.frame.DataFrame'>\n",
      "Int64Index: 671205 entries, 0 to 336204\n",
      "Data columns (total 13 columns):\n",
      " #   Column              Non-Null Count   Dtype \n",
      "---  ------              --------------   ----- \n",
      " 0   funded_amount       671205 non-null  int32 \n",
      " 1   loan_amount         671205 non-null  int32 \n",
      " 2   activity            671205 non-null  object\n",
      " 3   sector              671205 non-null  object\n",
      " 4   use                 666973 non-null  object\n",
      " 5   country_code        671197 non-null  object\n",
      " 6   country             671205 non-null  object\n",
      " 7   region              614405 non-null  object\n",
      " 8   currency            671205 non-null  object\n",
      " 9   term_in_months      671205 non-null  int32 \n",
      " 10  lender_count        671205 non-null  int32 \n",
      " 11  borrower_genders    666984 non-null  object\n",
      " 12  repayment_interval  671205 non-null  object\n",
      "dtypes: int32(4), object(9)\n",
      "memory usage: 61.5+ MB\n"
     ]
    }
   ],
   "source": [
    "df.info()"
   ]
  },
  {
   "cell_type": "markdown",
   "metadata": {},
   "source": [
    "### Finding and working with the missing/null values"
   ]
  },
  {
   "cell_type": "markdown",
   "metadata": {},
   "source": [
    "Now we consider more details features where there are missing data."
   ]
  },
  {
   "cell_type": "markdown",
   "metadata": {},
   "source": [
    "#### Column 'use'"
   ]
  },
  {
   "cell_type": "code",
   "execution_count": 19,
   "metadata": {},
   "outputs": [
    {
     "data": {
      "text/plain": [
       "4232"
      ]
     },
     "execution_count": 19,
     "metadata": {},
     "output_type": "execute_result"
    }
   ],
   "source": [
    "df['use'].isnull().sum() "
   ]
  },
  {
   "cell_type": "markdown",
   "metadata": {},
   "source": [
    "<font size=\"3\" color=\"#ff00ff\">\n",
    "Comment: \n",
    "    \n",
    "- There are 4232 missing data in 'use' but the information is not so important, we could ignore the missing data here.\n"
   ]
  },
  {
   "cell_type": "markdown",
   "metadata": {},
   "source": [
    "#### Column 'country_code'"
   ]
  },
  {
   "cell_type": "code",
   "execution_count": 20,
   "metadata": {},
   "outputs": [
    {
     "data": {
      "text/plain": [
       "8"
      ]
     },
     "execution_count": 20,
     "metadata": {},
     "output_type": "execute_result"
    }
   ],
   "source": [
    "df['country_code'].isnull().sum() "
   ]
  },
  {
   "cell_type": "code",
   "execution_count": 21,
   "metadata": {},
   "outputs": [
    {
     "data": {
      "text/plain": [
       "array(['Namibia'], dtype=object)"
      ]
     },
     "execution_count": 21,
     "metadata": {},
     "output_type": "execute_result"
    }
   ],
   "source": [
    "df[df['country_code'].isna()].country.unique() # Check the unique values in 'country' where 'country_code' is np.nan"
   ]
  },
  {
   "cell_type": "code",
   "execution_count": 22,
   "metadata": {},
   "outputs": [],
   "source": [
    "# df.country_code.fillna('NA', inplace=True)\n",
    "df.loc[df['country_code'].isna(),'country_code'] = 'NA' # Assign the missing values in 'country_code' by 'NA'"
   ]
  },
  {
   "cell_type": "markdown",
   "metadata": {},
   "source": [
    "<font size=\"3\" color=\"#ff00ff\">\n",
    "Comment: \n",
    "    \n",
    "- There are 8 missing data in 'country_code', all in country Namibia, we could fill in the missing data for 'country_code' as 'NA'.\n",
    "\n"
   ]
  },
  {
   "cell_type": "markdown",
   "metadata": {},
   "source": [
    "#### Column 'region'"
   ]
  },
  {
   "cell_type": "code",
   "execution_count": 23,
   "metadata": {},
   "outputs": [
    {
     "data": {
      "text/plain": [
       "56800"
      ]
     },
     "execution_count": 23,
     "metadata": {},
     "output_type": "execute_result"
    }
   ],
   "source": [
    "df['region'].isnull().sum() "
   ]
  },
  {
   "cell_type": "code",
   "execution_count": 24,
   "metadata": {
    "scrolled": true
   },
   "outputs": [
    {
     "data": {
      "text/plain": [
       "array(['Kenya', 'El Salvador', 'Senegal', 'Iraq', 'United States', 'Peru',\n",
       "       'Tanzania', 'Guatemala', 'Colombia', 'Indonesia', 'Kosovo',\n",
       "       'Timor-Leste', 'Turkey', 'Philippines', 'Palestine', 'Burundi',\n",
       "       'Tajikistan', 'Honduras', 'Jordan', 'Mexico', 'Lebanon', 'Albania',\n",
       "       'Nicaragua', 'Bolivia', 'Israel', 'Rwanda', 'Azerbaijan',\n",
       "       'Ecuador', 'Mongolia', 'Haiti', 'Cambodia', 'Sierra Leone',\n",
       "       'Yemen', 'Zimbabwe', 'Paraguay', 'Uganda', 'Armenia',\n",
       "       'Dominican Republic', 'Benin', 'Belize', 'Ghana', 'Mozambique',\n",
       "       'Zambia', 'Samoa', 'Brazil', 'Panama', 'Pakistan', 'Burkina Faso',\n",
       "       'Suriname', 'Virgin Islands', 'Togo', 'South Africa', 'Malawi',\n",
       "       'Nigeria', 'Liberia', 'Vietnam', 'Costa Rica', 'Guam',\n",
       "       'Myanmar (Burma)', 'Mali', 'Madagascar',\n",
       "       'The Democratic Republic of the Congo', 'Cameroon', 'Georgia',\n",
       "       'Puerto Rico', 'South Sudan', 'Moldova', 'Chile', 'Kyrgyzstan',\n",
       "       'India', 'China', 'Bhutan'], dtype=object)"
      ]
     },
     "execution_count": 24,
     "metadata": {},
     "output_type": "execute_result"
    }
   ],
   "source": [
    "df[df['region'].isna()].country.unique()"
   ]
  },
  {
   "cell_type": "code",
   "execution_count": 25,
   "metadata": {},
   "outputs": [
    {
     "data": {
      "text/plain": [
       "array(['irregular', 'monthly', 'bullet', 'weekly'], dtype=object)"
      ]
     },
     "execution_count": 25,
     "metadata": {},
     "output_type": "execute_result"
    }
   ],
   "source": [
    "df[df['region'].isna()].repayment_interval.unique()"
   ]
  },
  {
   "cell_type": "markdown",
   "metadata": {},
   "source": [
    "#### Column 'borrower_genders'"
   ]
  },
  {
   "cell_type": "code",
   "execution_count": 26,
   "metadata": {},
   "outputs": [
    {
     "data": {
      "text/plain": [
       "4221"
      ]
     },
     "execution_count": 26,
     "metadata": {},
     "output_type": "execute_result"
    }
   ],
   "source": [
    "df['borrower_genders'].isnull().sum() "
   ]
  },
  {
   "cell_type": "code",
   "execution_count": 27,
   "metadata": {},
   "outputs": [
    {
     "data": {
      "text/plain": [
       "array(['monthly', 'bullet', 'irregular'], dtype=object)"
      ]
     },
     "execution_count": 27,
     "metadata": {},
     "output_type": "execute_result"
    }
   ],
   "source": [
    "df[df['borrower_genders'].isna()].repayment_interval.unique()"
   ]
  },
  {
   "cell_type": "markdown",
   "metadata": {},
   "source": [
    "<font size=\"3\" color=\"#ff00ff\">\n",
    "Comment: \n",
    "    \n",
    "- The missing values of feature 'region' and 'borrower_genders' could not be assigned reasonly if we do not have more external information. By gooling, we could find, for example, the database 'kiva.loans.csv' in https://www.kaggle.com/kiva/data-science-for-good-kiva-crowdfunding/version/5?select=kiva_loans.csv\n",
    "which consists of 20 features instead of our 13 features. With the feature 'tags' we could somehow assign missing values for 'region' and 'borrowe_genders' but this is out of this project.\n",
    "\n",
    "\n",
    "\n"
   ]
  },
  {
   "cell_type": "markdown",
   "metadata": {},
   "source": [
    "## Exploratory Data Analysis"
   ]
  },
  {
   "cell_type": "code",
   "execution_count": 28,
   "metadata": {
    "scrolled": true
   },
   "outputs": [
    {
     "data": {
      "text/html": [
       "<div>\n",
       "<style scoped>\n",
       "    .dataframe tbody tr th:only-of-type {\n",
       "        vertical-align: middle;\n",
       "    }\n",
       "\n",
       "    .dataframe tbody tr th {\n",
       "        vertical-align: top;\n",
       "    }\n",
       "\n",
       "    .dataframe thead th {\n",
       "        text-align: right;\n",
       "    }\n",
       "</style>\n",
       "<table border=\"1\" class=\"dataframe\">\n",
       "  <thead>\n",
       "    <tr style=\"text-align: right;\">\n",
       "      <th></th>\n",
       "      <th>funded_amount</th>\n",
       "      <th>loan_amount</th>\n",
       "      <th>term_in_months</th>\n",
       "      <th>lender_count</th>\n",
       "    </tr>\n",
       "  </thead>\n",
       "  <tbody>\n",
       "    <tr>\n",
       "      <th>count</th>\n",
       "      <td>671205.000000</td>\n",
       "      <td>671205.000000</td>\n",
       "      <td>671205.000000</td>\n",
       "      <td>671205.000000</td>\n",
       "    </tr>\n",
       "    <tr>\n",
       "      <th>mean</th>\n",
       "      <td>785.995061</td>\n",
       "      <td>842.397107</td>\n",
       "      <td>13.739022</td>\n",
       "      <td>20.590922</td>\n",
       "    </tr>\n",
       "    <tr>\n",
       "      <th>std</th>\n",
       "      <td>1130.398941</td>\n",
       "      <td>1198.660073</td>\n",
       "      <td>8.598919</td>\n",
       "      <td>28.459551</td>\n",
       "    </tr>\n",
       "    <tr>\n",
       "      <th>min</th>\n",
       "      <td>0.000000</td>\n",
       "      <td>25.000000</td>\n",
       "      <td>1.000000</td>\n",
       "      <td>0.000000</td>\n",
       "    </tr>\n",
       "    <tr>\n",
       "      <th>25%</th>\n",
       "      <td>250.000000</td>\n",
       "      <td>275.000000</td>\n",
       "      <td>8.000000</td>\n",
       "      <td>7.000000</td>\n",
       "    </tr>\n",
       "    <tr>\n",
       "      <th>50%</th>\n",
       "      <td>450.000000</td>\n",
       "      <td>500.000000</td>\n",
       "      <td>13.000000</td>\n",
       "      <td>13.000000</td>\n",
       "    </tr>\n",
       "    <tr>\n",
       "      <th>75%</th>\n",
       "      <td>900.000000</td>\n",
       "      <td>1000.000000</td>\n",
       "      <td>14.000000</td>\n",
       "      <td>24.000000</td>\n",
       "    </tr>\n",
       "    <tr>\n",
       "      <th>max</th>\n",
       "      <td>100000.000000</td>\n",
       "      <td>100000.000000</td>\n",
       "      <td>158.000000</td>\n",
       "      <td>2986.000000</td>\n",
       "    </tr>\n",
       "  </tbody>\n",
       "</table>\n",
       "</div>"
      ],
      "text/plain": [
       "       funded_amount    loan_amount  term_in_months   lender_count\n",
       "count  671205.000000  671205.000000   671205.000000  671205.000000\n",
       "mean      785.995061     842.397107       13.739022      20.590922\n",
       "std      1130.398941    1198.660073        8.598919      28.459551\n",
       "min         0.000000      25.000000        1.000000       0.000000\n",
       "25%       250.000000     275.000000        8.000000       7.000000\n",
       "50%       450.000000     500.000000       13.000000      13.000000\n",
       "75%       900.000000    1000.000000       14.000000      24.000000\n",
       "max    100000.000000  100000.000000      158.000000    2986.000000"
      ]
     },
     "execution_count": 28,
     "metadata": {},
     "output_type": "execute_result"
    }
   ],
   "source": [
    "df.describe()"
   ]
  },
  {
   "cell_type": "markdown",
   "metadata": {},
   "source": [
    "Comments: \n",
    "\n",
    "- The mean number of lenders is 20\n",
    "- The mean number of months is 13, while minimum is 1 and maximum is 158"
   ]
  },
  {
   "cell_type": "markdown",
   "metadata": {},
   "source": [
    "### Activities for loan"
   ]
  },
  {
   "cell_type": "code",
   "execution_count": 29,
   "metadata": {
    "scrolled": true
   },
   "outputs": [
    {
     "data": {
      "text/plain": [
       "Text(0.5, 1.0, '10 most frequent activities for loan')"
      ]
     },
     "execution_count": 29,
     "metadata": {},
     "output_type": "execute_result"
    },
    {
     "data": {
      "image/png": "[encoded data removed]",
      "text/plain": [
       "<Figure size 720x576 with 1 Axes>"
      ]
     },
     "metadata": {
      "needs_background": "light"
     },
     "output_type": "display_data"
    }
   ],
   "source": [
    "# group_activity = df.groupby('activity',as_index=False).agg(size=('activity','size'))\n",
    "# group_activity.sort_values(by= 'size', ascending=False, inplace=True)\n",
    "# group_activity\n",
    "# plt.figure(figsize = (10,8))\n",
    "# sns.barplot(x=group_activity['size'].head(10), y=group_activity['activity'].head(10))\n",
    "# plt.xlabel('Number Count', fontsize = 15)\n",
    "# plt.ylabel('Activity Type', fontsize = 15)\n",
    "# plt.title('10 most frequent activities for loan', fontsize = 20)\n",
    "\n",
    "activities = df.activity.value_counts().head(10)\n",
    "plt.figure(figsize = (10,8))\n",
    "sns.barplot(x=activities.values, y=activities.index)\n",
    "plt.xlabel('Number Count', fontsize = 15)\n",
    "plt.ylabel('Activity Type', fontsize = 15)\n",
    "plt.title('10 most frequent activities for loan', fontsize = 20)"
   ]
  },
  {
   "cell_type": "markdown",
   "metadata": {},
   "source": [
    "<font size=\"3\" color=\"#ff00ff\">\n",
    "Comment: \n",
    "    \n",
    "- We see that Farming is the dominant activity of all followed by General Store, Personal Housing Expenses, etc.\n"
   ]
  },
  {
   "cell_type": "markdown",
   "metadata": {},
   "source": [
    "### Sectors for loan"
   ]
  },
  {
   "cell_type": "code",
   "execution_count": 30,
   "metadata": {
    "scrolled": true
   },
   "outputs": [
    {
     "data": {
      "text/plain": [
       "Text(0.5, 1.0, '10 most frequent sectors for loan')"
      ]
     },
     "execution_count": 30,
     "metadata": {},
     "output_type": "execute_result"
    },
    {
     "data": {
      "image/png": "[encoded data removed]",
      "text/plain": [
       "<Figure size 720x576 with 1 Axes>"
      ]
     },
     "metadata": {
      "needs_background": "light"
     },
     "output_type": "display_data"
    }
   ],
   "source": [
    "# group_sector = df.groupby('sector',as_index=False).agg(size=('sector','size'))\n",
    "# group_sector.sort_values(by= 'size', ascending=False, inplace=True)\n",
    "# group_sector\n",
    "# plt.figure(figsize = (13,8))\n",
    "# sns.barplot(x=group_sector['size'], y=group_sector['sector'])\n",
    "# plt.xlabel('Number Count', fontsize = 15)\n",
    "# plt.ylabel('Sector Type', fontsize = 15)\n",
    "# plt.title('Most frequent sectors for loan', fontsize = 20)\n",
    "\n",
    "sectors = df.sector.value_counts().head(10)\n",
    "plt.figure(figsize = (10,8))\n",
    "sns.barplot(x=sectors.values, y=sectors.index)\n",
    "plt.xlabel('Number Count', fontsize = 15)\n",
    "plt.ylabel('Sector Type', fontsize = 15)\n",
    "plt.title('10 most frequent sectors for loan', fontsize = 20)"
   ]
  },
  {
   "cell_type": "markdown",
   "metadata": {},
   "source": [
    "<font size=\"3\" color=\"#ff00ff\">\n",
    "Comment: \n",
    "    \n",
    "- We see that Agriculture is the dominant sector of all followed by Food, Retail, Services etc.\n"
   ]
  },
  {
   "cell_type": "markdown",
   "metadata": {},
   "source": [
    "### Countries for loan"
   ]
  },
  {
   "cell_type": "code",
   "execution_count": 31,
   "metadata": {},
   "outputs": [
    {
     "data": {
      "text/plain": [
       "Text(0.5, 1.0, '10 most frequent countries for loan')"
      ]
     },
     "execution_count": 31,
     "metadata": {},
     "output_type": "execute_result"
    },
    {
     "data": {
      "image/png": "[encoded data removed]",
      "text/plain": [
       "<Figure size 720x576 with 1 Axes>"
      ]
     },
     "metadata": {
      "needs_background": "light"
     },
     "output_type": "display_data"
    }
   ],
   "source": [
    "countries = df.country.value_counts().head(10)\n",
    "plt.figure(figsize = (10,8))\n",
    "sns.barplot(x=countries.values, y=countries.index)\n",
    "plt.xlabel('Number Count', fontsize = 15)\n",
    "plt.ylabel('Country', fontsize = 15)\n",
    "plt.title('10 most frequent countries for loan', fontsize = 20)"
   ]
  },
  {
   "cell_type": "markdown",
   "metadata": {},
   "source": [
    "<font size=\"3\" color=\"#ff00ff\">\n",
    "Comment: \n",
    "    \n",
    "- Hence we can see that Philippines has been the main focus of the loans followed by Kenya, El Salvador, etc.\n",
    "\n",
    "\n"
   ]
  },
  {
   "cell_type": "markdown",
   "metadata": {},
   "source": [
    "### Gender vs loan"
   ]
  },
  {
   "cell_type": "markdown",
   "metadata": {},
   "source": [
    "We seperate each line of column 'borrower_genders' by the numbers of males and females in that line. And add two columns for our dataset, name 'female_list' and 'male_list'. Then we use pie plot to compare the males and females who borrow money."
   ]
  },
  {
   "cell_type": "code",
   "execution_count": 32,
   "metadata": {
    "scrolled": true
   },
   "outputs": [
    {
     "data": {
      "image/png": "[encoded data removed]",
      "text/plain": [
       "<Figure size 360x360 with 1 Axes>"
      ]
     },
     "metadata": {},
     "output_type": "display_data"
    }
   ],
   "source": [
    "female_list = []\n",
    "male_list = []\n",
    "\n",
    "for irow in df.borrower_genders:\n",
    "\n",
    "    number_female_list = 0\n",
    "    number_male_list = 0\n",
    "\n",
    "    for j in str(irow).split(sep=', '):\n",
    "\n",
    "        if j=='female':\n",
    "            number_female_list += 1\n",
    "        elif j=='male':\n",
    "            number_male_list += 1\n",
    "\n",
    "    female_list.append(number_female_list)\n",
    "    male_list.append(number_male_list)\n",
    "\n",
    "df['female_list'] = female_list\n",
    "df['male_list'] = male_list\n",
    "\n",
    "    \n",
    "data = [sum(male_list), sum(female_list)]\n",
    "labels = ['male','female']\n",
    "colors = ['lightgreen','tomato']\n",
    "\n",
    "fig1, ax1 = plt.subplots(figsize = (5,5))\n",
    "\n",
    "ax1.pie(data, labels = labels, colors = colors, autopct='%.1f%%',startangle=90)\n",
    "ax1.axis('equal')  # Equal aspect ratio ensures that pie is drawn as a circle.\n",
    "\n",
    "ax1.set_title(\"Bifurcation of loans by gender\")\n",
    "plt.show()\n",
    "\n",
    "\n"
   ]
  },
  {
   "cell_type": "markdown",
   "metadata": {},
   "source": [
    "<font size=\"3\" color=\"#ff00ff\">\n",
    "Comment: \n",
    "    \n",
    "- From the above pie chart it is evident that females are active to loans as four times as males.\n",
    "\n"
   ]
  },
  {
   "cell_type": "markdown",
   "metadata": {},
   "source": [
    "### Continent vs loan"
   ]
  },
  {
   "cell_type": "markdown",
   "metadata": {},
   "source": [
    "We now import a new document, say 'countryContinent.csv', which assigns continents for our countries, rename it https://pandas.pydata.org/docs/reference/api/pandas.DataFrame.rename.html and merge it https://pandas.pydata.org/docs/reference/api/pandas.DataFrame.merge.html into our dataset, and name the new dataset as 'kiva_df'."
   ]
  },
  {
   "cell_type": "code",
   "execution_count": 33,
   "metadata": {},
   "outputs": [],
   "source": [
    "country_df = pd.read_csv('countryContinent.csv', encoding='ISO-8859-1')"
   ]
  },
  {
   "cell_type": "code",
   "execution_count": 34,
   "metadata": {},
   "outputs": [],
   "source": [
    "country_df = country_df.rename(columns={'country_code': 'codes', 'code_2': 'country_code'})"
   ]
  },
  {
   "cell_type": "code",
   "execution_count": 35,
   "metadata": {},
   "outputs": [],
   "source": [
    "kiva_df = pd.merge(df, country_df[['country_code' , 'continent' , 'sub_region']], on = 'country_code' ,how = 'left')"
   ]
  },
  {
   "cell_type": "code",
   "execution_count": 36,
   "metadata": {},
   "outputs": [
    {
     "data": {
      "text/plain": [
       "(671205, 17)"
      ]
     },
     "execution_count": 36,
     "metadata": {},
     "output_type": "execute_result"
    }
   ],
   "source": [
    "kiva_df.shape"
   ]
  },
  {
   "cell_type": "code",
   "execution_count": 37,
   "metadata": {
    "scrolled": true
   },
   "outputs": [
    {
     "data": {
      "text/plain": [
       "Text(0.5, 1.0, 'Most frequent Continent for loan')"
      ]
     },
     "execution_count": 37,
     "metadata": {},
     "output_type": "execute_result"
    },
    {
     "data": {
      "image/png": "[encoded data removed]",
      "text/plain": [
       "<Figure size 720x360 with 1 Axes>"
      ]
     },
     "metadata": {
      "needs_background": "light"
     },
     "output_type": "display_data"
    }
   ],
   "source": [
    "continents = kiva_df.continent.value_counts()\n",
    "plt.figure(figsize = (10,5))\n",
    "sns.barplot(x=continents.values, y=continents.index)\n",
    "plt.xlabel('Number Count', fontsize = 15)\n",
    "plt.ylabel('Continents', fontsize = 15)\n",
    "plt.title('Most frequent Continent for loan', fontsize = 20)"
   ]
  },
  {
   "cell_type": "markdown",
   "metadata": {},
   "source": [
    "<font size=\"3\" color=\"#ff00ff\">\n",
    "Comment: \n",
    "    \n",
    "- The Asian has most active in loan, follows are Afria, Americas, Oceania and the last is Europe.\n",
    "\n",
    "\n"
   ]
  },
  {
   "cell_type": "markdown",
   "metadata": {},
   "source": [
    "### Repayment interval vs loan"
   ]
  },
  {
   "cell_type": "code",
   "execution_count": 38,
   "metadata": {},
   "outputs": [
    {
     "data": {
      "text/plain": [
       "(monthly      342717\n",
       " irregular    257158\n",
       " bullet        70728\n",
       " weekly          602\n",
       " Name: repayment_interval, dtype: int64,\n",
       " (671205, 17))"
      ]
     },
     "execution_count": 38,
     "metadata": {},
     "output_type": "execute_result"
    }
   ],
   "source": [
    "kiva_df.repayment_interval.value_counts(), kiva_df.shape"
   ]
  },
  {
   "cell_type": "code",
   "execution_count": 39,
   "metadata": {
    "scrolled": false
   },
   "outputs": [
    {
     "data": {
      "text/plain": [
       "Text(0.5, 1.0, 'Bifurcation of loans by repayment interval')"
      ]
     },
     "execution_count": 39,
     "metadata": {},
     "output_type": "execute_result"
    },
    {
     "data": {
      "image/png": "[encoded data removed]",
      "text/plain": [
       "<Figure size 360x360 with 1 Axes>"
      ]
     },
     "metadata": {},
     "output_type": "display_data"
    }
   ],
   "source": [
    "kiva_df.repayment_interval.value_counts().plot(kind = 'pie', figsize = (5,5))\n",
    "plt.title('Bifurcation of loans by repayment interval')"
   ]
  },
  {
   "cell_type": "markdown",
   "metadata": {},
   "source": [
    "<font size=\"3\" color=\"#ff00ff\">\n",
    "Comment: \n",
    "    \n",
    "- As we can see that most of the loans have repayment interval of monthly, where as it is important to notice that around 38% of loans are irregular in nature. On the other hand as we can see weekly intervals are just negligible.\n",
    "\n",
    "\n",
    "\n"
   ]
  },
  {
   "cell_type": "markdown",
   "metadata": {},
   "source": [
    "### Subregions vs loan"
   ]
  },
  {
   "cell_type": "code",
   "execution_count": 40,
   "metadata": {},
   "outputs": [
    {
     "data": {
      "text/plain": [
       "Text(0.5, 1.0, 'Most frequent Sub regions for loan')"
      ]
     },
     "execution_count": 40,
     "metadata": {},
     "output_type": "execute_result"
    },
    {
     "data": {
      "image/png": "[encoded data removed]",
      "text/plain": [
       "<Figure size 720x360 with 1 Axes>"
      ]
     },
     "metadata": {
      "needs_background": "light"
     },
     "output_type": "display_data"
    }
   ],
   "source": [
    "sub_regions = kiva_df.sub_region.value_counts()\n",
    "plt.figure(figsize = (10,5))\n",
    "sns.barplot(x=sub_regions.values, y=sub_regions.index)\n",
    "plt.xlabel('Number Count', fontsize = 15)\n",
    "plt.ylabel('Sub regions', fontsize = 15)\n",
    "plt.title('Most frequent Sub regions for loan', fontsize = 20)"
   ]
  },
  {
   "cell_type": "markdown",
   "metadata": {},
   "source": [
    "<font size=\"3\" color=\"#ff00ff\">\n",
    "Comment: \n",
    "    \n",
    "- South East Asia is the dominant sub region. Followed by Eastern Africa,South America, Central America and Western Africa.\n",
    "\n"
   ]
  },
  {
   "cell_type": "markdown",
   "metadata": {},
   "source": [
    "### Lenders"
   ]
  },
  {
   "cell_type": "markdown",
   "metadata": {},
   "source": [
    "We now take a look at the distribution of lenders"
   ]
  },
  {
   "cell_type": "code",
   "execution_count": 41,
   "metadata": {},
   "outputs": [],
   "source": [
    "top_lender_count = kiva_df.lender_count.value_counts(ascending=False).head(30)"
   ]
  },
  {
   "cell_type": "code",
   "execution_count": 42,
   "metadata": {
    "scrolled": true
   },
   "outputs": [
    {
     "data": {
      "image/png": "[encoded data removed]",
      "text/plain": [
       "<Figure size 1440x576 with 1 Axes>"
      ]
     },
     "metadata": {
      "needs_background": "light"
     },
     "output_type": "display_data"
    }
   ],
   "source": [
    "plt.figure(figsize= (20,8))\n",
    "fig = sns.barplot(x=top_lender_count.index, y=top_lender_count.values)\n",
    "fig.set_title('Top lender count', fontsize = 20)\n",
    "fig.set_xlabel('Lender count', fontsize=15)\n",
    "fig.set_ylabel('count', fontsize = 15)\n",
    "plt.show()"
   ]
  },
  {
   "cell_type": "markdown",
   "metadata": {},
   "source": [
    "<font size=\"3\" color=\"#ff00ff\">\n",
    "Comment: \n",
    "    \n",
    "- As we can see there is an increasing trend till highest at 8 lenders and decreasing after that. There lies another peak at solo lenders as well.\n",
    "\n"
   ]
  },
  {
   "cell_type": "markdown",
   "metadata": {
    "id": "TvLtBWY5fFBL"
   },
   "source": [
    "## Summary"
   ]
  },
  {
   "cell_type": "markdown",
   "metadata": {
    "id": "rjbNByAwFbvJ"
   },
   "source": [
    "- Farming is the dominant activity of all for loan, followed by General Store, Personal Housing Expenses, etc.\n",
    "- We see that Agriculture is the dominant sector of all followed by Food, Retail, Services etc.\n",
    "- Philippines has been the main focus of the loans followed by Kenya, El Salvador, etc.\n",
    "- Females are active to loans as four times as males\n",
    "- The Asian has most active in loan, follows are Afria, Americas, Oceania and the last is Europe.\n",
    "- Most of the loans have repayment interval of monthly, where as it is important to notice that around 38% of loans are irregular in nature. On the other hand as we can see weekly intervals are just negligible.\n",
    "- South East Asia is the dominant sub region for loan. Followed by Eastern Africa,South America, Central America and Western Africa.\n",
    "- There is an increasing trend till highest at 8 lenders and decreasing after that. There lies another peak at solo lenders as well.\n",
    "\n",
    "   \n",
    "\n",
    "\n",
    "\n"
   ]
  }
 ],
 "metadata": {
  "hide_input": false,
  "kernelspec": {
   "display_name": "Python 3 (ipykernel)",
   "language": "python",
   "name": "python3"
  },
  "language_info": {
   "codemirror_mode": {
    "name": "ipython",
    "version": 3
   },
   "file_extension": ".py",
   "mimetype": "text/x-python",
   "name": "python",
   "nbconvert_exporter": "python",
   "pygments_lexer": "ipython3",
   "version": "3.8.8"
  },
  "nbTranslate": {
   "displayLangs": [
    "*"
   ],
   "hotkey": "alt-t",
   "langInMainMenu": true,
   "sourceLang": "en",
   "targetLang": "fr",
   "useGoogleTranslate": true
  },
  "toc": {
   "base_numbering": 1,
   "nav_menu": {},
   "number_sections": true,
   "sideBar": true,
   "skip_h1_title": false,
   "title_cell": "Table of Contents",
   "title_sidebar": "Contents",
   "toc_cell": false,
   "toc_position": {
    "height": "calc(100% - 180px)",
    "left": "10px",
    "top": "150px",
    "width": "356.1875px"
   },
   "toc_section_display": true,
   "toc_window_display": true
  },
  "varInspector": {
   "cols": {
    "lenName": 16,
    "lenType": 16,
    "lenVar": 40
   },
   "kernels_config": {
    "python": {
     "delete_cmd_postfix": "",
     "delete_cmd_prefix": "del ",
     "library": "var_list.py",
     "varRefreshCmd": "print(var_dic_list())"
    },
    "r": {
     "delete_cmd_postfix": ") ",
     "delete_cmd_prefix": "rm(",
     "library": "var_list.r",
     "varRefreshCmd": "cat(var_dic_list()) "
    }
   },
   "types_to_exclude": [
    "module",
    "function",
    "builtin_function_or_method",
    "instance",
    "_Feature"
   ],
   "window_display": false
  }
 },
 "nbformat": 4,
 "nbformat_minor": 4
}
